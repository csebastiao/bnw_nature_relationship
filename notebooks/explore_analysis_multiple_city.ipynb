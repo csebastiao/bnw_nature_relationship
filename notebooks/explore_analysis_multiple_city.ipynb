{
 "cells": [
  {
   "attachments": {},
   "cell_type": "markdown",
   "metadata": {},
   "source": [
    "# Analysis of the relationship between nature and cities on multiple cities"
   ]
  },
  {
   "cell_type": "code",
   "execution_count": 1,
   "metadata": {},
   "outputs": [],
   "source": [
    "import numpy as np\n",
    "import pandas as pd\n",
    "import geopandas as gpd\n",
    "import seaborn as sns\n",
    "import networkx as nx\n",
    "import matplotlib as mpl\n",
    "from matplotlib import pyplot as plt\n",
    "import folium"
   ]
  },
  {
   "cell_type": "code",
   "execution_count": 2,
   "metadata": {},
   "outputs": [
    {
     "name": "stdout",
     "output_type": "stream",
     "text": [
      "['city', 'country', 'population', 'wgraph', 'wres', '#nodes', '#edges', 'area', 'total road length', '#green', 'green area', '#blue', 'blue area', '#cover', 'cover area', '#bikeability=1', '#bikeability=2', '#bikeability=3', '#bikeability=4', '#bikeability=5', '#isolated', '#alongside', '#inbetween', '#surrounded', '#inside', '#none', '#partial', '#full', 'geometry']\n"
     ]
    }
   ],
   "source": [
    "gdf = gpd.read_file(\"../data/cities_analysis/recap_cities.geojson\")\n",
    "print(list(gdf))"
   ]
  },
  {
   "attachments": {},
   "cell_type": "markdown",
   "metadata": {},
   "source": [
    "The population is coming from the ESA estimation while the area is with the OSM administrative borders, so we can't compare them."
   ]
  },
  {
   "cell_type": "code",
   "execution_count": 3,
   "metadata": {},
   "outputs": [
    {
     "name": "stdout",
     "output_type": "stream",
     "text": [
      "27 cities with results, cities without a graph are ['Athens' 'Copenhagen' 'Glasgow'].\n"
     ]
    }
   ],
   "source": [
    "print(f\"\"\"{len(gdf[gdf['wres'] == True])} cities with results, cities without a graph are {gdf[gdf['wgraph'] == False]['city'].values}.\"\"\")"
   ]
  },
  {
   "cell_type": "code",
   "execution_count": 4,
   "metadata": {},
   "outputs": [
    {
     "data": {
      "text/plain": [
       "<AxesSubplot: xlabel='area', ylabel='total road length'>"
      ]
     },
     "execution_count": 4,
     "metadata": {},
     "output_type": "execute_result"
    },
    {
     "data": {
      "image/png": "[encoded data removed]",
      "text/plain": [
       "<Figure size 640x480 with 1 Axes>"
      ]
     },
     "metadata": {},
     "output_type": "display_data"
    }
   ],
   "source": [
    "sns.set_style('darkgrid')\n",
    "sns.scatterplot(data=gdf, x='area', y='total road length', hue='wres')"
   ]
  },
  {
   "attachments": {},
   "cell_type": "markdown",
   "metadata": {},
   "source": [
    "The total road length compared to the area (being the convex hull of all road edges inside the administrative borders) is somewhat linear, with one big outlier that we will investigate below. We have for now mostly small cities, as they are easier to compute."
   ]
  },
  {
   "cell_type": "code",
   "execution_count": 5,
   "metadata": {},
   "outputs": [
    {
     "data": {
      "text/html": [
       "<div>\n",
       "<style scoped>\n",
       "    .dataframe tbody tr th:only-of-type {\n",
       "        vertical-align: middle;\n",
       "    }\n",
       "\n",
       "    .dataframe tbody tr th {\n",
       "        vertical-align: top;\n",
       "    }\n",
       "\n",
       "    .dataframe thead th {\n",
       "        text-align: right;\n",
       "    }\n",
       "</style>\n",
       "<table border=\"1\" class=\"dataframe\">\n",
       "  <thead>\n",
       "    <tr style=\"text-align: right;\">\n",
       "      <th></th>\n",
       "      <th>city</th>\n",
       "      <th>country</th>\n",
       "      <th>population</th>\n",
       "      <th>wgraph</th>\n",
       "      <th>wres</th>\n",
       "      <th>#nodes</th>\n",
       "      <th>#edges</th>\n",
       "      <th>area</th>\n",
       "      <th>total road length</th>\n",
       "      <th>#green</th>\n",
       "      <th>...</th>\n",
       "      <th>#bikeability=5</th>\n",
       "      <th>#isolated</th>\n",
       "      <th>#alongside</th>\n",
       "      <th>#inbetween</th>\n",
       "      <th>#surrounded</th>\n",
       "      <th>#inside</th>\n",
       "      <th>#none</th>\n",
       "      <th>#partial</th>\n",
       "      <th>#full</th>\n",
       "      <th>geometry</th>\n",
       "    </tr>\n",
       "  </thead>\n",
       "  <tbody>\n",
       "    <tr>\n",
       "      <th>37</th>\n",
       "      <td>Thessaloniki</td>\n",
       "      <td>Greece</td>\n",
       "      <td>813774.992859</td>\n",
       "      <td>True</td>\n",
       "      <td>False</td>\n",
       "      <td>786968.0</td>\n",
       "      <td>818335.0</td>\n",
       "      <td>4.905480e+09</td>\n",
       "      <td>15256362.0</td>\n",
       "      <td>NaN</td>\n",
       "      <td>...</td>\n",
       "      <td>NaN</td>\n",
       "      <td>NaN</td>\n",
       "      <td>NaN</td>\n",
       "      <td>NaN</td>\n",
       "      <td>NaN</td>\n",
       "      <td>NaN</td>\n",
       "      <td>NaN</td>\n",
       "      <td>NaN</td>\n",
       "      <td>NaN</td>\n",
       "      <td>POLYGON ((23.00486 40.35023, 22.88903 40.37393...</td>\n",
       "    </tr>\n",
       "  </tbody>\n",
       "</table>\n",
       "<p>1 rows × 29 columns</p>\n",
       "</div>"
      ],
      "text/plain": [
       "            city country     population  wgraph   wres    #nodes    #edges  \\\n",
       "37  Thessaloniki  Greece  813774.992859    True  False  786968.0  818335.0   \n",
       "\n",
       "            area  total road length  #green  ...  #bikeability=5  #isolated  \\\n",
       "37  4.905480e+09         15256362.0     NaN  ...             NaN        NaN   \n",
       "\n",
       "    #alongside  #inbetween  #surrounded  #inside  #none  #partial  #full  \\\n",
       "37         NaN         NaN          NaN      NaN    NaN       NaN    NaN   \n",
       "\n",
       "                                             geometry  \n",
       "37  POLYGON ((23.00486 40.35023, 22.88903 40.37393...  \n",
       "\n",
       "[1 rows x 29 columns]"
      ]
     },
     "execution_count": 5,
     "metadata": {},
     "output_type": "execute_result"
    }
   ],
   "source": [
    "biggest_area = gdf[gdf['area'] == max(gdf['area'])]\n",
    "biggest_area"
   ]
  },
  {
   "cell_type": "code",
   "execution_count": 6,
   "metadata": {},
   "outputs": [
    {
     "data": {
      "text/html": [
       "<div style=\"width:100%;\"><div style=\"position:relative;width:100%;height:0;padding-bottom:60%;\"><span style=\"color:#565656\">Make this Notebook Trusted to load map: File -> Trust Notebook</span><iframe srcdoc=\"&lt;!DOCTYPE html&gt;\n",
       "&lt;html&gt;\n",
       "&lt;head&gt;\n",
       "    \n",
       "    &lt;meta http-equiv=&quot;content-type&quot; content=&quot;text/html; charset=UTF-8&quot; /&gt;\n",
       "    \n",
       "        &lt;script&gt;\n",
       "            L_NO_TOUCH = false;\n",
       "            L_DISABLE_3D = false;\n",
       "        &lt;/script&gt;\n",
       "    \n",
       "    &lt;style&gt;html, body {width: 100%;height: 100%;margin: 0;padding: 0;}&lt;/style&gt;\n",
       "    &lt;style&gt;#map {position:absolute;top:0;bottom:0;right:0;left:0;}&lt;/style&gt;\n",
       "    &lt;script src=&quot;https://cdn.jsdelivr.net/npm/leaflet@1.9.3/dist/leaflet.js&quot;&gt;&lt;/script&gt;\n",
       "    &lt;script src=&quot;https://code.jquery.com/jquery-1.12.4.min.js&quot;&gt;&lt;/script&gt;\n",
       "    &lt;script src=&quot;https://cdn.jsdelivr.net/npm/bootstrap@5.2.2/dist/js/bootstrap.bundle.min.js&quot;&gt;&lt;/script&gt;\n",
       "    &lt;script src=&quot;https://cdnjs.cloudflare.com/ajax/libs/Leaflet.awesome-markers/2.0.2/leaflet.awesome-markers.js&quot;&gt;&lt;/script&gt;\n",
       "    &lt;link rel=&quot;stylesheet&quot; href=&quot;https://cdn.jsdelivr.net/npm/leaflet@1.9.3/dist/leaflet.css&quot;/&gt;\n",
       "    &lt;link rel=&quot;stylesheet&quot; href=&quot;https://cdn.jsdelivr.net/npm/bootstrap@5.2.2/dist/css/bootstrap.min.css&quot;/&gt;\n",
       "    &lt;link rel=&quot;stylesheet&quot; href=&quot;https://netdna.bootstrapcdn.com/bootstrap/3.0.0/css/bootstrap.min.css&quot;/&gt;\n",
       "    &lt;link rel=&quot;stylesheet&quot; href=&quot;https://cdn.jsdelivr.net/npm/@fortawesome/fontawesome-free@6.2.0/css/all.min.css&quot;/&gt;\n",
       "    &lt;link rel=&quot;stylesheet&quot; href=&quot;https://cdnjs.cloudflare.com/ajax/libs/Leaflet.awesome-markers/2.0.2/leaflet.awesome-markers.css&quot;/&gt;\n",
       "    &lt;link rel=&quot;stylesheet&quot; href=&quot;https://cdn.jsdelivr.net/gh/python-visualization/folium/folium/templates/leaflet.awesome.rotate.min.css&quot;/&gt;\n",
       "    \n",
       "            &lt;meta name=&quot;viewport&quot; content=&quot;width=device-width,\n",
       "                initial-scale=1.0, maximum-scale=1.0, user-scalable=no&quot; /&gt;\n",
       "            &lt;style&gt;\n",
       "                #map_822360fc65aea067cfb8ffc7215ffcf0 {\n",
       "                    position: relative;\n",
       "                    width: 100.0%;\n",
       "                    height: 100.0%;\n",
       "                    left: 0.0%;\n",
       "                    top: 0.0%;\n",
       "                }\n",
       "                .leaflet-container { font-size: 1rem; }\n",
       "            &lt;/style&gt;\n",
       "        \n",
       "&lt;/head&gt;\n",
       "&lt;body&gt;\n",
       "    \n",
       "    \n",
       "            &lt;div class=&quot;folium-map&quot; id=&quot;map_822360fc65aea067cfb8ffc7215ffcf0&quot; &gt;&lt;/div&gt;\n",
       "        \n",
       "&lt;/body&gt;\n",
       "&lt;script&gt;\n",
       "    \n",
       "    \n",
       "            var map_822360fc65aea067cfb8ffc7215ffcf0 = L.map(\n",
       "                &quot;map_822360fc65aea067cfb8ffc7215ffcf0&quot;,\n",
       "                {\n",
       "                    center: [40.68742317087201, 23.112876820000245],\n",
       "                    crs: L.CRS.EPSG3857,\n",
       "                    zoom: 10,\n",
       "                    zoomControl: true,\n",
       "                    preferCanvas: false,\n",
       "                }\n",
       "            );\n",
       "\n",
       "            \n",
       "\n",
       "        \n",
       "    \n",
       "            var tile_layer_e7ac5d86402338b5bd54a4d83acb36dd = L.tileLayer(\n",
       "                &quot;https://{s}.tile.openstreetmap.org/{z}/{x}/{y}.png&quot;,\n",
       "                {&quot;attribution&quot;: &quot;Data by \\u0026copy; \\u003ca target=\\&quot;_blank\\&quot; href=\\&quot;http://openstreetmap.org\\&quot;\\u003eOpenStreetMap\\u003c/a\\u003e, under \\u003ca target=\\&quot;_blank\\&quot; href=\\&quot;http://www.openstreetmap.org/copyright\\&quot;\\u003eODbL\\u003c/a\\u003e.&quot;, &quot;detectRetina&quot;: false, &quot;maxNativeZoom&quot;: 18, &quot;maxZoom&quot;: 18, &quot;minZoom&quot;: 0, &quot;noWrap&quot;: false, &quot;opacity&quot;: 1, &quot;subdomains&quot;: &quot;abc&quot;, &quot;tms&quot;: false}\n",
       "            ).addTo(map_822360fc65aea067cfb8ffc7215ffcf0);\n",
       "        \n",
       "    \n",
       "\n",
       "        function geo_json_3f4779b2b9f0eb23582f0fa9ac1572e2_onEachFeature(feature, layer) {\n",
       "            layer.on({\n",
       "            });\n",
       "        };\n",
       "        var geo_json_3f4779b2b9f0eb23582f0fa9ac1572e2 = L.geoJson(null, {\n",
       "                onEachFeature: geo_json_3f4779b2b9f0eb23582f0fa9ac1572e2_onEachFeature,\n",
       "            \n",
       "        });\n",
       "\n",
       "        function geo_json_3f4779b2b9f0eb23582f0fa9ac1572e2_add (data) {\n",
       "            geo_json_3f4779b2b9f0eb23582f0fa9ac1572e2\n",
       "                .addData(data)\n",
       "                .addTo(map_822360fc65aea067cfb8ffc7215ffcf0);\n",
       "        }\n",
       "            geo_json_3f4779b2b9f0eb23582f0fa9ac1572e2_add({&quot;bbox&quot;: [22.4916479, 40.3502292, 23.7643608, 40.9993371], &quot;features&quot;: [{&quot;bbox&quot;: [22.4916479, 40.3502292, 23.7643608, 40.9993371], &quot;geometry&quot;: {&quot;coordinates&quot;: [[[23.0048605, 40.3502292], [22.8890304, 40.3739303], [22.6829079, 40.5275803], [22.498944, 40.6788395], [22.4916479, 40.6932388], [22.4939581, 40.700397], [22.5286903, 40.8034547], [22.5430394, 40.8396891], [23.2296386, 40.9970817], [23.2429019, 40.9993371], [23.2557206, 40.9964042], [23.7596755, 40.7631747], [23.7643608, 40.7578743], [23.7561174, 40.633884], [23.7514425, 40.6305393], [23.7455851, 40.6278401], [23.1300357, 40.3864788], [23.0394799, 40.3532971], [23.0359517, 40.3525001], [23.0048605, 40.3502292]]], &quot;type&quot;: &quot;Polygon&quot;}, &quot;id&quot;: &quot;37&quot;, &quot;properties&quot;: {}, &quot;type&quot;: &quot;Feature&quot;}], &quot;type&quot;: &quot;FeatureCollection&quot;});\n",
       "\n",
       "        \n",
       "&lt;/script&gt;\n",
       "&lt;/html&gt;\" style=\"position:absolute;width:100%;height:100%;left:0;top:0;border:none !important;\" allowfullscreen webkitallowfullscreen mozallowfullscreen></iframe></div></div>"
      ],
      "text/plain": [
       "<folium.folium.Map at 0x25758a7f040>"
      ]
     },
     "execution_count": 6,
     "metadata": {},
     "output_type": "execute_result"
    }
   ],
   "source": [
    "centroid = list(biggest_area.geometry.values[0].centroid.coords[:][0])\n",
    "centroid.reverse()\n",
    "m = folium.Map(location = centroid, zoom_start=10)\n",
    "folium.GeoJson(data=biggest_area.geometry).add_to(m)\n",
    "m"
   ]
  },
  {
   "attachments": {},
   "cell_type": "markdown",
   "metadata": {},
   "source": [
    "As we can see, this outlier is explanable by the fact that the administrative border found in OSM are not similar as the \"natural city borders\", including lakes, moutains, forests..."
   ]
  },
  {
   "cell_type": "code",
   "execution_count": 7,
   "metadata": {},
   "outputs": [
    {
     "name": "stdout",
     "output_type": "stream",
     "text": [
      "5 most bikeable cities: ['Antwerp' 'Dusseldorf' 'Amsterdam' 'Rotterdam [The Hague]' 'Paris']\n",
      "5 least bikeable cities: ['Naples' 'Liverpool' 'Porto' 'Belgrade' 'Dublin']\n",
      "5 cities with the most number of bike path: ['Dusseldorf' 'Amsterdam' 'Antwerp' 'Rotterdam [The Hague]' 'Paris']\n",
      "5 cities with the least number of bike path: ['Porto' 'Naples' 'Tirana' 'Lille' 'Bilbao']\n"
     ]
    },
    {
     "data": {
      "image/png": "[encoded data removed]",
      "text/plain": [
       "<Figure size 640x480 with 1 Axes>"
      ]
     },
     "metadata": {},
     "output_type": "display_data"
    }
   ],
   "source": [
    "sns.set_style('darkgrid')\n",
    "gdf['bikeable'] = gdf['#bikeability=1']/gdf['#edges']\n",
    "sns.scatterplot(data=gdf, x='area', y='bikeable')\n",
    "print(f\"5 most bikeable cities: {gdf.nlargest(5, 'bikeable')['city'].values}\")\n",
    "print(f\"5 least bikeable cities: {gdf.nsmallest(5, 'bikeable')['city'].values}\")\n",
    "print(f\"5 cities with the most number of bike path: {gdf.nlargest(5, '#bikeability=1')['city'].values}\")\n",
    "print(f\"5 cities with the least number of bike path: {gdf.nsmallest(5, '#bikeability=1')['city'].values}\")"
   ]
  },
  {
   "cell_type": "code",
   "execution_count": 8,
   "metadata": {},
   "outputs": [
    {
     "name": "stdout",
     "output_type": "stream",
     "text": [
      "Mean bikeability of 0.096, standard deviation of 0.057\n"
     ]
    },
    {
     "data": {
      "image/png": "[encoded data removed]",
      "text/plain": [
       "<Figure size 640x480 with 1 Axes>"
      ]
     },
     "metadata": {},
     "output_type": "display_data"
    }
   ],
   "source": [
    "sns.histplot(data=gdf, x='bikeable', kde=True, bins=10)\n",
    "bikeable_val = [val for val in gdf['bikeable'].values if str(val) != 'nan']\n",
    "print(f\"Mean bikeability of {round(np.mean(bikeable_val), 3)}, standard deviation of {round(np.std(bikeable_val), 4)}\")"
   ]
  },
  {
   "attachments": {},
   "cell_type": "markdown",
   "metadata": {},
   "source": [
    "We could argue that a road is not only bikeable if it's a bicycle path, discriminated by the presence of cars and pedestrians with physical obstacles. Doing so we need to make a difference between a bicycle path and paintings indicating that a road is made for bicycle, adding arbitrary weights to the definition."
   ]
  },
  {
   "cell_type": "code",
   "execution_count": 9,
   "metadata": {},
   "outputs": [
    {
     "name": "stdout",
     "output_type": "stream",
     "text": [
      "5 most bikeable (extended) cities: ['Antwerp' 'Dusseldorf' 'Amsterdam' 'Paris' 'Rotterdam [The Hague]']\n",
      "5 least bikeable (extended) cities: ['Naples' 'Belgrade' 'Málaga' 'Porto' 'Barcelona']\n"
     ]
    },
    {
     "data": {
      "text/plain": [
       "<AxesSubplot: xlabel='area', ylabel='bikeable_extended'>"
      ]
     },
     "execution_count": 9,
     "metadata": {},
     "output_type": "execute_result"
    },
    {
     "data": {
      "image/png": "[encoded data removed]",
      "text/plain": [
       "<Figure size 640x480 with 1 Axes>"
      ]
     },
     "metadata": {},
     "output_type": "display_data"
    }
   ],
   "source": [
    "gdf['bikeable_extended'] = (gdf['#bikeability=1'] + gdf['#bikeability=2']/2 + gdf['#bikeability=3']/4) / gdf['#edges']\n",
    "print(f\"5 most bikeable (extended) cities: {gdf.nlargest(5, 'bikeable_extended')['city'].values}\")\n",
    "print(f\"5 least bikeable (extended) cities: {gdf.nsmallest(5, 'bikeable_extended')['city'].values}\")\n",
    "sns.scatterplot(data=gdf, x='area', y='bikeable_extended')"
   ]
  },
  {
   "cell_type": "code",
   "execution_count": 10,
   "metadata": {},
   "outputs": [
    {
     "name": "stdout",
     "output_type": "stream",
     "text": [
      "Mean extended bikeability of 0.198, standard deviation of 0.0543\n",
      "5 cities with the largest delta between definition of bikeabily are ['Tirana' 'Lyon' 'Paris' 'Lille' 'Liverpool']\n"
     ]
    },
    {
     "data": {
      "image/png": "[encoded data removed]",
      "text/plain": [
       "<Figure size 640x480 with 1 Axes>"
      ]
     },
     "metadata": {},
     "output_type": "display_data"
    }
   ],
   "source": [
    "sns.histplot(data=gdf, x='bikeable_extended', kde=True, bins=10)\n",
    "bikeable_val = [val for val in gdf['bikeable_extended'].values if str(val) != 'nan']\n",
    "print(f\"Mean extended bikeability of {round(np.mean(bikeable_val), 3)}, standard deviation of {round(np.std(bikeable_val), 4)}\")\n",
    "gdf['delta_bikeable'] = np.abs(gdf['bikeable_extended'] - gdf['bikeable'])\n",
    "print(f\"5 cities with the largest delta between definition of bikeabily are {gdf.nlargest(5, 'delta_bikeable')['city'].values}\")"
   ]
  },
  {
   "cell_type": "code",
   "execution_count": 11,
   "metadata": {},
   "outputs": [
    {
     "name": "stdout",
     "output_type": "stream",
     "text": [
      "5 others most bikeable (extended) cities: ['Tirana' 'Lyon' 'Manchester' 'Brussels' 'Lille']\n",
      "Delta for Paris is 0.14126598436835153 or a 106% increase,\n",
      "    for Tirana is 0.16498636191002314 or a 245% increase\n"
     ]
    }
   ],
   "source": [
    "print(f\"5 others most bikeable (extended) cities: {gdf.nlargest(10, 'bikeable_extended')['city'].values[5:]}\")\n",
    "paris_delta = gdf[gdf['city'] == 'Paris']['delta_bikeable'].values[0]\n",
    "paris_bikeable = gdf[gdf['city'] == 'Paris']['bikeable'].values[0]\n",
    "tirana_delta = gdf[gdf['city'] == 'Tirana']['delta_bikeable'].values[0]\n",
    "tirana_bikeable = gdf[gdf['city'] == 'Tirana']['bikeable'].values[0]\n",
    "print(\n",
    "    f\"\"\"Delta for Paris is {paris_delta} or a {round(100 * paris_delta/paris_bikeable)}% increase,\n",
    "    for Tirana is {tirana_delta} or a {round(100 * tirana_delta/tirana_bikeable)}% increase\"\"\")"
   ]
  },
  {
   "attachments": {},
   "cell_type": "markdown",
   "metadata": {},
   "source": [
    "Extending the definition with those arbitrary weights doesn't lead to drastic changes for most cities, the distribution is shifted towards a higher mean and there are more intermediate cities between the three highly bikeable cities that are Antwerp, Dusseldorf, and Amsterdam. Interesting ones are Paris and Tirana : Paris was really behind the other as the 5th highly bikeable cities before but with the 3rd largest delta is now the 4th highest bikeable, really close to the 3rd. \n",
    "\n",
    "Tirana is the 6th city in extended bikeability but the 3rd worse in number of bike path !\n",
    "\n",
    "One issue with the extended definition is that we include streets tagged as \"residential\" to be at level 3. It makes sense but depending on the community a \"residential\" street can be a 50km/h street, with varying traffic or a calm 30km/h street. On the opposite, streets that are not residential or with a maximum speed of 30km/h are at level 4, the worst level where streets are still legally bikeable but without any features for a safe and relaxed trip on a bike."
   ]
  },
  {
   "cell_type": "code",
   "execution_count": 12,
   "metadata": {},
   "outputs": [
    {
     "name": "stdout",
     "output_type": "stream",
     "text": [
      "5 cities with high bikeability of level 3: ['Tirana' 'Dublin' 'Palermo' 'Turin' 'Liverpool']\n",
      "5 cities with low bikeability of level 3: ['Zurich' 'Barcelona' 'Málaga' 'Dusseldorf' 'Amsterdam']\n"
     ]
    },
    {
     "data": {
      "image/png": "[encoded data removed]",
      "text/plain": [
       "<Figure size 640x480 with 1 Axes>"
      ]
     },
     "metadata": {},
     "output_type": "display_data"
    }
   ],
   "source": [
    "gdf['level_3_relative'] = gdf['#bikeability=3']/gdf['#edges']\n",
    "sns.scatterplot(data=gdf, x='#edges', y='level_3_relative')\n",
    "print(f\"5 cities with high bikeability of level 3: {gdf.nlargest(5, 'level_3_relative')['city'].values}\")\n",
    "print(f\"5 cities with low bikeability of level 3: {gdf.nsmallest(5, 'level_3_relative')['city'].values}\")"
   ]
  },
  {
   "attachments": {},
   "cell_type": "markdown",
   "metadata": {},
   "source": [
    "Tirana, Lille, and Liverpool have high delta of bikeability and high number of level 3 streets. Tirana and Lyon have quite high extended bikeability because of this. Amsterdam and Dusseldorf have a low number of level 3 streets but they are already highly bikeable, so it's likely that this is because they are already so many streets with a bikeability level of 1 or 2. Barcelona and Málaga have a low number of level 3 streets and are becoming the 3rd and 5th cities with the worst extended bikeability, because they have a lot of streets that are not tagged as residential or without a maximum speed < 30km/h so at level 4. Zurich is special because if we look at the city graph, most streets are at level 5 so it should be illegal or impossible to bike on them !\n",
    "\n",
    "To get more informations, we should inspect if the level 3 comes from being residential or at a maximum speed < 30km/h.\n",
    "\n",
    "Another issue is that depending on OSM precision and local standards, protected bicycle network can be tagged on the street, or be a completely independent, parallel streets ! It's obvious in Amsterdam, where most bicycle corridors of level 1 are running parallel to level 4 streets. This can reduce the bikeability of the city, as the number of edges increases with level 4 edges."
   ]
  },
  {
   "attachments": {},
   "cell_type": "markdown",
   "metadata": {},
   "source": [
    "If we want to compare by countries, we need to take into account that we don't compare the same number of cities for each country, thus changing the standard deviation."
   ]
  },
  {
   "cell_type": "code",
   "execution_count": 13,
   "metadata": {},
   "outputs": [
    {
     "data": {
      "text/html": [
       "<div>\n",
       "<style scoped>\n",
       "    .dataframe tbody tr th:only-of-type {\n",
       "        vertical-align: middle;\n",
       "    }\n",
       "\n",
       "    .dataframe tbody tr th {\n",
       "        vertical-align: top;\n",
       "    }\n",
       "\n",
       "    .dataframe thead th {\n",
       "        text-align: right;\n",
       "    }\n",
       "</style>\n",
       "<table border=\"1\" class=\"dataframe\">\n",
       "  <thead>\n",
       "    <tr style=\"text-align: right;\">\n",
       "      <th></th>\n",
       "      <th>country</th>\n",
       "      <th>#cities</th>\n",
       "    </tr>\n",
       "  </thead>\n",
       "  <tbody>\n",
       "    <tr>\n",
       "      <th>7</th>\n",
       "      <td>Serbia</td>\n",
       "      <td>1</td>\n",
       "    </tr>\n",
       "    <tr>\n",
       "      <th>8</th>\n",
       "      <td>Ireland</td>\n",
       "      <td>1</td>\n",
       "    </tr>\n",
       "    <tr>\n",
       "      <th>9</th>\n",
       "      <td>Switzerland</td>\n",
       "      <td>1</td>\n",
       "    </tr>\n",
       "    <tr>\n",
       "      <th>10</th>\n",
       "      <td>Germany</td>\n",
       "      <td>1</td>\n",
       "    </tr>\n",
       "    <tr>\n",
       "      <th>11</th>\n",
       "      <td>Albania</td>\n",
       "      <td>1</td>\n",
       "    </tr>\n",
       "    <tr>\n",
       "      <th>12</th>\n",
       "      <td>Portugal</td>\n",
       "      <td>2</td>\n",
       "    </tr>\n",
       "    <tr>\n",
       "      <th>13</th>\n",
       "      <td>Belgium</td>\n",
       "      <td>2</td>\n",
       "    </tr>\n",
       "    <tr>\n",
       "      <th>14</th>\n",
       "      <td>Netherlands</td>\n",
       "      <td>2</td>\n",
       "    </tr>\n",
       "    <tr>\n",
       "      <th>15</th>\n",
       "      <td>Italy</td>\n",
       "      <td>3</td>\n",
       "    </tr>\n",
       "    <tr>\n",
       "      <th>16</th>\n",
       "      <td>United Kingdom</td>\n",
       "      <td>3</td>\n",
       "    </tr>\n",
       "    <tr>\n",
       "      <th>17</th>\n",
       "      <td>Spain</td>\n",
       "      <td>5</td>\n",
       "    </tr>\n",
       "    <tr>\n",
       "      <th>18</th>\n",
       "      <td>France</td>\n",
       "      <td>5</td>\n",
       "    </tr>\n",
       "  </tbody>\n",
       "</table>\n",
       "</div>"
      ],
      "text/plain": [
       "           country  #cities\n",
       "7           Serbia        1\n",
       "8          Ireland        1\n",
       "9      Switzerland        1\n",
       "10         Germany        1\n",
       "11         Albania        1\n",
       "12        Portugal        2\n",
       "13         Belgium        2\n",
       "14     Netherlands        2\n",
       "15           Italy        3\n",
       "16  United Kingdom        3\n",
       "17           Spain        5\n",
       "18          France        5"
      ]
     },
     "execution_count": 13,
     "metadata": {},
     "output_type": "execute_result"
    }
   ],
   "source": [
    "num = []\n",
    "for country in set(gdf['country'].values):\n",
    "    num.append([country, len(gdf[(gdf['country'] == country) & (gdf['wres'] == True)])])\n",
    "num = pd.DataFrame(num, columns=['country', '#cities'])\n",
    "num.sort_values('#cities', inplace=True, ignore_index=True)\n",
    "num[num['#cities'] > 0]"
   ]
  },
  {
   "cell_type": "code",
   "execution_count": 14,
   "metadata": {},
   "outputs": [
    {
     "data": {
      "text/html": [
       "<div>\n",
       "<style scoped>\n",
       "    .dataframe tbody tr th:only-of-type {\n",
       "        vertical-align: middle;\n",
       "    }\n",
       "\n",
       "    .dataframe tbody tr th {\n",
       "        vertical-align: top;\n",
       "    }\n",
       "\n",
       "    .dataframe thead th {\n",
       "        text-align: right;\n",
       "    }\n",
       "</style>\n",
       "<table border=\"1\" class=\"dataframe\">\n",
       "  <thead>\n",
       "    <tr style=\"text-align: right;\">\n",
       "      <th></th>\n",
       "      <th>country</th>\n",
       "      <th>mean bikeability</th>\n",
       "    </tr>\n",
       "  </thead>\n",
       "  <tbody>\n",
       "    <tr>\n",
       "      <th>0</th>\n",
       "      <td>Serbia</td>\n",
       "      <td>0.052505</td>\n",
       "    </tr>\n",
       "    <tr>\n",
       "      <th>1</th>\n",
       "      <td>Ireland</td>\n",
       "      <td>0.053875</td>\n",
       "    </tr>\n",
       "    <tr>\n",
       "      <th>2</th>\n",
       "      <td>Portugal</td>\n",
       "      <td>0.056736</td>\n",
       "    </tr>\n",
       "    <tr>\n",
       "      <th>3</th>\n",
       "      <td>Italy</td>\n",
       "      <td>0.058502</td>\n",
       "    </tr>\n",
       "    <tr>\n",
       "      <th>4</th>\n",
       "      <td>Albania</td>\n",
       "      <td>0.067310</td>\n",
       "    </tr>\n",
       "    <tr>\n",
       "      <th>5</th>\n",
       "      <td>United Kingdom</td>\n",
       "      <td>0.068533</td>\n",
       "    </tr>\n",
       "    <tr>\n",
       "      <th>6</th>\n",
       "      <td>Switzerland</td>\n",
       "      <td>0.077744</td>\n",
       "    </tr>\n",
       "    <tr>\n",
       "      <th>7</th>\n",
       "      <td>France</td>\n",
       "      <td>0.088590</td>\n",
       "    </tr>\n",
       "    <tr>\n",
       "      <th>8</th>\n",
       "      <td>Spain</td>\n",
       "      <td>0.089491</td>\n",
       "    </tr>\n",
       "    <tr>\n",
       "      <th>9</th>\n",
       "      <td>Belgium</td>\n",
       "      <td>0.180354</td>\n",
       "    </tr>\n",
       "    <tr>\n",
       "      <th>10</th>\n",
       "      <td>Netherlands</td>\n",
       "      <td>0.189867</td>\n",
       "    </tr>\n",
       "    <tr>\n",
       "      <th>11</th>\n",
       "      <td>Germany</td>\n",
       "      <td>0.223012</td>\n",
       "    </tr>\n",
       "  </tbody>\n",
       "</table>\n",
       "</div>"
      ],
      "text/plain": [
       "           country  mean bikeability\n",
       "0           Serbia          0.052505\n",
       "1          Ireland          0.053875\n",
       "2         Portugal          0.056736\n",
       "3            Italy          0.058502\n",
       "4          Albania          0.067310\n",
       "5   United Kingdom          0.068533\n",
       "6      Switzerland          0.077744\n",
       "7           France          0.088590\n",
       "8            Spain          0.089491\n",
       "9          Belgium          0.180354\n",
       "10     Netherlands          0.189867\n",
       "11         Germany          0.223012"
      ]
     },
     "execution_count": 14,
     "metadata": {},
     "output_type": "execute_result"
    }
   ],
   "source": [
    "ranking = []\n",
    "for country in set(gdf['country'].values):\n",
    "    val = gdf[gdf['country'] == country]['bikeable'].values\n",
    "    val = val[~np.isnan(val)]\n",
    "    if len(val) > 0:\n",
    "        ranking.append([country, np.mean(val)])\n",
    "ranking = pd.DataFrame(ranking, columns=['country', 'mean bikeability'])\n",
    "ranking.sort_values('mean bikeability', inplace=True, ignore_index=True)\n",
    "ranking"
   ]
  },
  {
   "cell_type": "code",
   "execution_count": 15,
   "metadata": {},
   "outputs": [
    {
     "data": {
      "text/html": [
       "<div>\n",
       "<style scoped>\n",
       "    .dataframe tbody tr th:only-of-type {\n",
       "        vertical-align: middle;\n",
       "    }\n",
       "\n",
       "    .dataframe tbody tr th {\n",
       "        vertical-align: top;\n",
       "    }\n",
       "\n",
       "    .dataframe thead th {\n",
       "        text-align: right;\n",
       "    }\n",
       "</style>\n",
       "<table border=\"1\" class=\"dataframe\">\n",
       "  <thead>\n",
       "    <tr style=\"text-align: right;\">\n",
       "      <th></th>\n",
       "      <th>country</th>\n",
       "      <th>mean bikeability (extended)</th>\n",
       "    </tr>\n",
       "  </thead>\n",
       "  <tbody>\n",
       "    <tr>\n",
       "      <th>0</th>\n",
       "      <td>Serbia</td>\n",
       "      <td>0.139989</td>\n",
       "    </tr>\n",
       "    <tr>\n",
       "      <th>1</th>\n",
       "      <td>Switzerland</td>\n",
       "      <td>0.154184</td>\n",
       "    </tr>\n",
       "    <tr>\n",
       "      <th>2</th>\n",
       "      <td>Italy</td>\n",
       "      <td>0.156188</td>\n",
       "    </tr>\n",
       "    <tr>\n",
       "      <th>3</th>\n",
       "      <td>Portugal</td>\n",
       "      <td>0.158383</td>\n",
       "    </tr>\n",
       "    <tr>\n",
       "      <th>4</th>\n",
       "      <td>Ireland</td>\n",
       "      <td>0.170744</td>\n",
       "    </tr>\n",
       "    <tr>\n",
       "      <th>5</th>\n",
       "      <td>Spain</td>\n",
       "      <td>0.172005</td>\n",
       "    </tr>\n",
       "    <tr>\n",
       "      <th>6</th>\n",
       "      <td>United Kingdom</td>\n",
       "      <td>0.187584</td>\n",
       "    </tr>\n",
       "    <tr>\n",
       "      <th>7</th>\n",
       "      <td>France</td>\n",
       "      <td>0.208932</td>\n",
       "    </tr>\n",
       "    <tr>\n",
       "      <th>8</th>\n",
       "      <td>Albania</td>\n",
       "      <td>0.232296</td>\n",
       "    </tr>\n",
       "    <tr>\n",
       "      <th>9</th>\n",
       "      <td>Netherlands</td>\n",
       "      <td>0.263893</td>\n",
       "    </tr>\n",
       "    <tr>\n",
       "      <th>10</th>\n",
       "      <td>Belgium</td>\n",
       "      <td>0.276190</td>\n",
       "    </tr>\n",
       "    <tr>\n",
       "      <th>11</th>\n",
       "      <td>Germany</td>\n",
       "      <td>0.309960</td>\n",
       "    </tr>\n",
       "  </tbody>\n",
       "</table>\n",
       "</div>"
      ],
      "text/plain": [
       "           country  mean bikeability (extended)\n",
       "0           Serbia                     0.139989\n",
       "1      Switzerland                     0.154184\n",
       "2            Italy                     0.156188\n",
       "3         Portugal                     0.158383\n",
       "4          Ireland                     0.170744\n",
       "5            Spain                     0.172005\n",
       "6   United Kingdom                     0.187584\n",
       "7           France                     0.208932\n",
       "8          Albania                     0.232296\n",
       "9      Netherlands                     0.263893\n",
       "10         Belgium                     0.276190\n",
       "11         Germany                     0.309960"
      ]
     },
     "execution_count": 15,
     "metadata": {},
     "output_type": "execute_result"
    }
   ],
   "source": [
    "ranking = []\n",
    "for country in set(gdf['country'].values):\n",
    "    val = gdf[gdf['country'] == country]['bikeable_extended'].values\n",
    "    val = val[~np.isnan(val)]\n",
    "    if len(val) > 0:\n",
    "        ranking.append([country, np.mean(val)])\n",
    "ranking = pd.DataFrame(ranking, columns=['country', 'mean bikeability (extended)'])\n",
    "ranking.sort_values('mean bikeability (extended)', inplace=True, ignore_index=True)\n",
    "ranking"
   ]
  },
  {
   "attachments": {},
   "cell_type": "markdown",
   "metadata": {},
   "source": [
    "Albania is somewhat of an outlier because there is only one city with high bikeability"
   ]
  },
  {
   "attachments": {},
   "cell_type": "markdown",
   "metadata": {},
   "source": [
    "We don't have results for all cities but we can already see that Benelux and the surroundings are trusting the higher rankings, whil Southern/Eastern Europe countries are more on the lower rankings. Germany and Albania as countries are outlier because there is only one city investigated so far."
   ]
  },
  {
   "cell_type": "code",
   "execution_count": 16,
   "metadata": {},
   "outputs": [
    {
     "name": "stdout",
     "output_type": "stream",
     "text": [
      "5 most natural cities: ['Zurich' 'Valencia' 'Palermo' 'Amsterdam' 'Bilbao']\n",
      "5 least natural cities: ['Paris' 'Lille' 'Tirana' 'Lyon' 'Manchester']\n",
      "5 most coverage cities: ['Bilbao' 'Zurich' 'Dusseldorf' 'Lyon' 'Manchester']\n",
      "5 least coverage cities: ['Valencia' 'Seville' 'Málaga' 'Porto' 'Lisbon']\n"
     ]
    },
    {
     "data": {
      "text/plain": [
       "<AxesSubplot: xlabel='coverage', ylabel='natural'>"
      ]
     },
     "execution_count": 16,
     "metadata": {},
     "output_type": "execute_result"
    },
    {
     "data": {
      "image/png": "[encoded data removed]",
      "text/plain": [
       "<Figure size 1600x900 with 3 Axes>"
      ]
     },
     "metadata": {},
     "output_type": "display_data"
    }
   ],
   "source": [
    "gdf['natural'] = (gdf['green area'] + gdf['blue area']) / gdf['area']\n",
    "gdf['coverage'] = gdf['cover area'] / gdf['area']\n",
    "print(f\"5 most natural cities: {gdf.nlargest(5, 'natural')['city'].values}\")\n",
    "print(f\"5 least natural cities: {gdf.nsmallest(5, 'natural')['city'].values}\")\n",
    "print(f\"5 most coverage cities: {gdf.nlargest(5, 'coverage')['city'].values}\")\n",
    "print(f\"5 least coverage cities: {gdf.nsmallest(5, 'coverage')['city'].values}\")\n",
    "fig, axs = plt.subplots(1, 3, figsize=(16, 9))\n",
    "sns.scatterplot(data=gdf, x='area', y='natural', ax=axs[0])\n",
    "sns.scatterplot(data=gdf, x='area', y='coverage', ax=axs[1])\n",
    "sns.scatterplot(data=gdf, x='coverage', y='natural', ax=axs[2])"
   ]
  },
  {
   "attachments": {},
   "cell_type": "markdown",
   "metadata": {},
   "source": [
    "There are a couple of issues with these definitions : green and blue areas are the ones with an intersection with the bounding box of the city, so if the geometry of the city is curved, and if the city is near a huge natural place that only slightly intersect with the city, this will cause biases. Also, the city here is the administrative city, so if there are some lonely roads way outside of the city, it can add a lot of nature. \n",
    "\n",
    "Still, we can see that Amsterdam is well surrounded by nature and Dusseldorf is well covered with tree canopies, and they are also the most bikeable cities. Paris is very bikeable but without a lot of nature inside the city. Porto is not bikeable and there is no coverage. Zurich and Bilbao are the only cities that are highly covered and natural at the same time.\n",
    "\n",
    "The distribution of coverage is less spreaded than the coverage of nature.\n",
    "\n",
    "We visualize their results below and their graphs.\n",
    "\n",
    "Another thing to note is that on 5 least natural cities, 3 of them are French. This is partially explained because the administrative boundaries of cities in France are strict: Paris and Lyon for instance have much larger urban areas than the actual city limits.\n",
    "The 5 least coverage cities are all in the Iberian Peninsula. This is probably because the climate is so hot that most natural areas don't have a tree canopy but drier, smaller plants."
   ]
  },
  {
   "cell_type": "code",
   "execution_count": 17,
   "metadata": {},
   "outputs": [
    {
     "data": {
      "text/plain": [
       "<AxesSubplot: xlabel='bikeable', ylabel='coverage'>"
      ]
     },
     "execution_count": 17,
     "metadata": {},
     "output_type": "execute_result"
    },
    {
     "data": {
      "image/png": "[encoded data removed]",
      "text/plain": [
       "<Figure size 1600x900 with 2 Axes>"
      ]
     },
     "metadata": {},
     "output_type": "display_data"
    }
   ],
   "source": [
    "fig, axs = plt.subplots(1, 2, figsize=(16, 9))\n",
    "sns.scatterplot(data=gdf, x='bikeable', y='natural', ax=axs[0])\n",
    "sns.scatterplot(data=gdf, x='bikeable', y='coverage', ax=axs[1])"
   ]
  },
  {
   "cell_type": "code",
   "execution_count": 18,
   "metadata": {},
   "outputs": [
    {
     "name": "stdout",
     "output_type": "stream",
     "text": [
      "5 cities with the most roads close to nature: ['Dusseldorf' 'Zurich' 'Manchester' 'Paris' 'Newcastle upon Tyne']\n",
      "5 cities with the least roads close to nature: ['Seville' 'Valencia' 'Tirana' 'Málaga' 'Porto']\n",
      "5 cities with the most covered roads: ['Zurich' 'Valencia' 'Palermo' 'Amsterdam' 'Bilbao']\n",
      "5 cities with the least covered roads: ['Paris' 'Lille' 'Tirana' 'Lyon' 'Manchester']\n"
     ]
    }
   ],
   "source": [
    "gdf['covered'] = (gdf['#full'] + gdf['#partial']/2) / gdf['#edges']\n",
    "gdf['natural_roads'] = (gdf['#inside'] +  gdf['#surrounded']/2 + gdf['#inbetween']/3 + gdf['#alongside']/4) / gdf['#edges']\n",
    "print(f\"5 cities with the most roads close to nature: {gdf.nlargest(5, 'covered')['city'].values}\")\n",
    "print(f\"5 cities with the least roads close to nature: {gdf.nsmallest(5, 'covered')['city'].values}\")\n",
    "print(f\"5 cities with the most covered roads: {gdf.nlargest(5, 'natural')['city'].values}\")\n",
    "print(f\"5 cities with the least covered roads: {gdf.nsmallest(5, 'natural')['city'].values}\")"
   ]
  },
  {
   "attachments": {},
   "cell_type": "markdown",
   "metadata": {},
   "source": [
    "Comparing not the amount of nature or coverage in the area of the city relative to the size of the city but the amount of roads close to nature relative to the total amount of roads make more sense in our mobility. Paris is quite intriguing in that sense, being the 4th city with most roads close to nature and the 5th worst city in amount of natural areas. If we look at the graph, this makes more sense as the definition of Paris is restricted to inside the periphery which is very urbanized and dense and full of concrete, but it also take into account two forests close : Bois de Boulogne and Bois de Vincennes, that are huge natural areas with a lot of roads inside nature."
   ]
  },
  {
   "cell_type": "code",
   "execution_count": 19,
   "metadata": {},
   "outputs": [
    {
     "data": {
      "text/html": [
       "<div>\n",
       "<style scoped>\n",
       "    .dataframe tbody tr th:only-of-type {\n",
       "        vertical-align: middle;\n",
       "    }\n",
       "\n",
       "    .dataframe tbody tr th {\n",
       "        vertical-align: top;\n",
       "    }\n",
       "\n",
       "    .dataframe thead th {\n",
       "        text-align: right;\n",
       "    }\n",
       "</style>\n",
       "<table border=\"1\" class=\"dataframe\">\n",
       "  <thead>\n",
       "    <tr style=\"text-align: right;\">\n",
       "      <th></th>\n",
       "      <th>city</th>\n",
       "      <th>country</th>\n",
       "      <th>population</th>\n",
       "      <th>wgraph</th>\n",
       "      <th>wres</th>\n",
       "      <th>#nodes</th>\n",
       "      <th>#edges</th>\n",
       "      <th>area</th>\n",
       "      <th>total road length</th>\n",
       "      <th>#green</th>\n",
       "      <th>...</th>\n",
       "      <th>#full</th>\n",
       "      <th>geometry</th>\n",
       "      <th>bikeable</th>\n",
       "      <th>bikeable_extended</th>\n",
       "      <th>delta_bikeable</th>\n",
       "      <th>level_3_relative</th>\n",
       "      <th>natural</th>\n",
       "      <th>coverage</th>\n",
       "      <th>covered</th>\n",
       "      <th>natural_roads</th>\n",
       "    </tr>\n",
       "  </thead>\n",
       "  <tbody>\n",
       "    <tr>\n",
       "      <th>0</th>\n",
       "      <td>Paris</td>\n",
       "      <td>France</td>\n",
       "      <td>9.711652e+06</td>\n",
       "      <td>True</td>\n",
       "      <td>True</td>\n",
       "      <td>197305.0</td>\n",
       "      <td>223265.0</td>\n",
       "      <td>123399112.0</td>\n",
       "      <td>3532116.0</td>\n",
       "      <td>8659.0</td>\n",
       "      <td>...</td>\n",
       "      <td>13445.0</td>\n",
       "      <td>POLYGON ((2.34429 48.81571, 2.33367 48.81677, ...</td>\n",
       "      <td>0.132739</td>\n",
       "      <td>0.274005</td>\n",
       "      <td>0.141266</td>\n",
       "      <td>0.310138</td>\n",
       "      <td>0.346554</td>\n",
       "      <td>0.392479</td>\n",
       "      <td>0.217802</td>\n",
       "      <td>0.280886</td>\n",
       "    </tr>\n",
       "    <tr>\n",
       "      <th>26</th>\n",
       "      <td>Amsterdam</td>\n",
       "      <td>Netherlands</td>\n",
       "      <td>1.128715e+06</td>\n",
       "      <td>True</td>\n",
       "      <td>True</td>\n",
       "      <td>230745.0</td>\n",
       "      <td>260576.0</td>\n",
       "      <td>218374295.0</td>\n",
       "      <td>4280354.0</td>\n",
       "      <td>15599.0</td>\n",
       "      <td>...</td>\n",
       "      <td>12314.0</td>\n",
       "      <td>POLYGON ((4.91020 52.31828, 4.85750 52.32147, ...</td>\n",
       "      <td>0.214210</td>\n",
       "      <td>0.277445</td>\n",
       "      <td>0.063235</td>\n",
       "      <td>0.179149</td>\n",
       "      <td>1.233484</td>\n",
       "      <td>0.227018</td>\n",
       "      <td>0.162874</td>\n",
       "      <td>0.417274</td>\n",
       "    </tr>\n",
       "    <tr>\n",
       "      <th>29</th>\n",
       "      <td>Porto</td>\n",
       "      <td>Portugal</td>\n",
       "      <td>9.982835e+05</td>\n",
       "      <td>True</td>\n",
       "      <td>True</td>\n",
       "      <td>64908.0</td>\n",
       "      <td>70800.0</td>\n",
       "      <td>46729000.0</td>\n",
       "      <td>1119917.0</td>\n",
       "      <td>7721.0</td>\n",
       "      <td>...</td>\n",
       "      <td>2642.0</td>\n",
       "      <td>POLYGON ((-8.61524 41.13998, -8.61569 41.14000...</td>\n",
       "      <td>0.037076</td>\n",
       "      <td>0.144573</td>\n",
       "      <td>0.107496</td>\n",
       "      <td>0.262302</td>\n",
       "      <td>0.658886</td>\n",
       "      <td>0.211728</td>\n",
       "      <td>0.097076</td>\n",
       "      <td>0.304616</td>\n",
       "    </tr>\n",
       "    <tr>\n",
       "      <th>43</th>\n",
       "      <td>Dusseldorf</td>\n",
       "      <td>Germany</td>\n",
       "      <td>7.440198e+05</td>\n",
       "      <td>True</td>\n",
       "      <td>True</td>\n",
       "      <td>244500.0</td>\n",
       "      <td>267080.0</td>\n",
       "      <td>313774978.0</td>\n",
       "      <td>4389263.0</td>\n",
       "      <td>17363.0</td>\n",
       "      <td>...</td>\n",
       "      <td>19627.0</td>\n",
       "      <td>POLYGON ((6.90036 51.12489, 6.85822 51.12749, ...</td>\n",
       "      <td>0.223012</td>\n",
       "      <td>0.309960</td>\n",
       "      <td>0.086948</td>\n",
       "      <td>0.177992</td>\n",
       "      <td>0.869933</td>\n",
       "      <td>0.700124</td>\n",
       "      <td>0.301803</td>\n",
       "      <td>0.349330</td>\n",
       "    </tr>\n",
       "  </tbody>\n",
       "</table>\n",
       "<p>4 rows × 37 columns</p>\n",
       "</div>"
      ],
      "text/plain": [
       "          city      country    population  wgraph  wres    #nodes    #edges  \\\n",
       "0        Paris       France  9.711652e+06    True  True  197305.0  223265.0   \n",
       "26   Amsterdam  Netherlands  1.128715e+06    True  True  230745.0  260576.0   \n",
       "29       Porto     Portugal  9.982835e+05    True  True   64908.0   70800.0   \n",
       "43  Dusseldorf      Germany  7.440198e+05    True  True  244500.0  267080.0   \n",
       "\n",
       "           area  total road length   #green  ...    #full  \\\n",
       "0   123399112.0          3532116.0   8659.0  ...  13445.0   \n",
       "26  218374295.0          4280354.0  15599.0  ...  12314.0   \n",
       "29   46729000.0          1119917.0   7721.0  ...   2642.0   \n",
       "43  313774978.0          4389263.0  17363.0  ...  19627.0   \n",
       "\n",
       "                                             geometry  bikeable  \\\n",
       "0   POLYGON ((2.34429 48.81571, 2.33367 48.81677, ...  0.132739   \n",
       "26  POLYGON ((4.91020 52.31828, 4.85750 52.32147, ...  0.214210   \n",
       "29  POLYGON ((-8.61524 41.13998, -8.61569 41.14000...  0.037076   \n",
       "43  POLYGON ((6.90036 51.12489, 6.85822 51.12749, ...  0.223012   \n",
       "\n",
       "    bikeable_extended  delta_bikeable  level_3_relative   natural  coverage  \\\n",
       "0            0.274005        0.141266          0.310138  0.346554  0.392479   \n",
       "26           0.277445        0.063235          0.179149  1.233484  0.227018   \n",
       "29           0.144573        0.107496          0.262302  0.658886  0.211728   \n",
       "43           0.309960        0.086948          0.177992  0.869933  0.700124   \n",
       "\n",
       "     covered  natural_roads  \n",
       "0   0.217802       0.280886  \n",
       "26  0.162874       0.417274  \n",
       "29  0.097076       0.304616  \n",
       "43  0.301803       0.349330  \n",
       "\n",
       "[4 rows x 37 columns]"
      ]
     },
     "execution_count": 19,
     "metadata": {},
     "output_type": "execute_result"
    }
   ],
   "source": [
    "city_selected = ['Amsterdam', 'Dusseldorf', 'Paris', 'Porto']\n",
    "gdf[gdf['city'].isin(city_selected)]"
   ]
  },
  {
   "attachments": {},
   "cell_type": "markdown",
   "metadata": {},
   "source": [
    "Main directions:\n",
    "- Use dask-geopandas dataframe and shapely 2.0 for faster python workflow and work with bigger cities\n",
    "- Use more cities in same amount of countries to see if we can compare countries/regions\n",
    "- Compare UCDB boundaries and OSM boundaries, use difference between two to estimate population and use it as axis\n",
    "- Dig deeper on interesting cities:\n",
    "    - Why Zurich have so much nature and so much level 5 bikeability\n",
    "    - Look at Barcelona streets tag and why so much level 4\n",
    "    - Take Amsterdam and Dusseldorf as example of lot of nature with lot of bikeability\n",
    "    - Take Paris as example of lot of bikeability without lot of nature\n",
    "    - Take Porto as example of no bikeability and no nature\n",
    "- Use dual graph to find relationship between corridors and nature/coverage/bikeability\n",
    "- Find measure like circuity but to see the difference not only between bikeable and not bikeable path but also nature\n",
    "- See if there is sometimes a relationship between bikeability and proximity to nature/cover"
   ]
  },
  {
   "cell_type": "markdown",
   "metadata": {},
   "source": []
  }
 ],
 "metadata": {
  "kernelspec": {
   "display_name": "ngis",
   "language": "python",
   "name": "python3"
  },
  "language_info": {
   "codemirror_mode": {
    "name": "ipython",
    "version": 3
   },
   "file_extension": ".py",
   "mimetype": "text/x-python",
   "name": "python",
   "nbconvert_exporter": "python",
   "pygments_lexer": "ipython3",
   "version": "3.10.8"
  },
  "orig_nbformat": 4,
  "vscode": {
   "interpreter": {
    "hash": "7aa1f015e26dbd1455272e60acc8199848fd67b2c2752dd654a98a76a9b5b9ae"
   }
  }
 },
 "nbformat": 4,
 "nbformat_minor": 2
}
